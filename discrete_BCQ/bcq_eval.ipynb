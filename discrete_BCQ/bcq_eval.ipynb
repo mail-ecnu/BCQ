{
 "cells": [
  {
   "cell_type": "code",
   "execution_count": 33,
   "metadata": {
    "scrolled": true
   },
   "outputs": [
    {
     "name": "stdout",
     "output_type": "stream",
     "text": [
      "BCQ_MiniGrid-DoorKey-8x8-v0_0_0.0_0.0_0.3.npy\r\n",
      "BCQ_MiniGrid-DoorKey-8x8-v0_0_0.0_0.0_0.5.npy\r\n",
      "BCQ_MiniGrid-DoorKey-8x8-v0_0_0.0_0.0_0.7.npy\r\n",
      "BCQ_MiniGrid-DoorKey-8x8-v0_0_0.0_0.2_0.3.npy\r\n",
      "BCQ_MiniGrid-DoorKey-8x8-v0_0_0.0_0.2_0.5.npy\r\n",
      "BCQ_MiniGrid-DoorKey-8x8-v0_0_0.0_0.2_0.7.npy\r\n",
      "BCQ_MiniGrid-DoorKey-8x8-v0_0_0.0_0.4_0.3.npy\r\n",
      "BCQ_MiniGrid-DoorKey-8x8-v0_0_0.0_0.4_0.5.npy\r\n",
      "BCQ_MiniGrid-DoorKey-8x8-v0_0_0.0_0.4_0.7.npy\r\n",
      "BCQ_MiniGrid-DoorKey-8x8-v0_0_0.0_0.6_0.3.npy\r\n",
      "BCQ_MiniGrid-DoorKey-8x8-v0_0_0.0_0.6_0.5.npy\r\n",
      "BCQ_MiniGrid-DoorKey-8x8-v0_0_0.0_0.6_0.7.npy\r\n",
      "BCQ_MiniGrid-DoorKey-8x8-v0_0_0.0_0.8_0.3.npy\r\n",
      "BCQ_MiniGrid-DoorKey-8x8-v0_0_0.0_0.8_0.5.npy\r\n",
      "BCQ_MiniGrid-DoorKey-8x8-v0_0_0.0_0.8_0.7.npy\r\n",
      "BCQ_MiniGrid-DoorKey-8x8-v0_0_0.2_0.0_0.3.npy\r\n",
      "BCQ_MiniGrid-DoorKey-8x8-v0_0_0.2_0.0_0.5.npy\r\n",
      "BCQ_MiniGrid-DoorKey-8x8-v0_0_0.2_0.0_0.7.npy\r\n",
      "BCQ_MiniGrid-DoorKey-8x8-v0_0_0.2_0.2_0.3.npy\r\n",
      "BCQ_MiniGrid-DoorKey-8x8-v0_0_0.2_0.2_0.5.npy\r\n",
      "BCQ_MiniGrid-DoorKey-8x8-v0_0_0.2_0.2_0.7.npy\r\n",
      "BCQ_MiniGrid-DoorKey-8x8-v0_0_0.2_0.4_0.3.npy\r\n",
      "BCQ_MiniGrid-DoorKey-8x8-v0_0_0.2_0.4_0.5.npy\r\n",
      "BCQ_MiniGrid-DoorKey-8x8-v0_0_0.2_0.4_0.7.npy\r\n",
      "BCQ_MiniGrid-DoorKey-8x8-v0_0_0.2_0.6_0.3.npy\r\n",
      "BCQ_MiniGrid-DoorKey-8x8-v0_0_0.2_0.6_0.5.npy\r\n",
      "BCQ_MiniGrid-DoorKey-8x8-v0_0_0.2_0.6_0.7.npy\r\n",
      "BCQ_MiniGrid-DoorKey-8x8-v0_0_0.2_0.8_0.3.npy\r\n",
      "BCQ_MiniGrid-DoorKey-8x8-v0_0_0.2_0.8_0.5.npy\r\n",
      "BCQ_MiniGrid-DoorKey-8x8-v0_0_0.2_0.8_0.7.npy\r\n",
      "BCQ_MiniGrid-DoorKey-8x8-v0_0_0.4_0.0_0.3.npy\r\n",
      "BCQ_MiniGrid-DoorKey-8x8-v0_0_0.4_0.0_0.5.npy\r\n",
      "BCQ_MiniGrid-DoorKey-8x8-v0_0_0.4_0.0_0.7.npy\r\n",
      "BCQ_MiniGrid-DoorKey-8x8-v0_0_0.4_0.2_0.3.npy\r\n",
      "BCQ_MiniGrid-DoorKey-8x8-v0_0_0.4_0.2_0.5.npy\r\n",
      "BCQ_MiniGrid-DoorKey-8x8-v0_0_0.4_0.2_0.7.npy\r\n",
      "BCQ_MiniGrid-DoorKey-8x8-v0_0_0.4_0.4_0.3.npy\r\n",
      "BCQ_MiniGrid-DoorKey-8x8-v0_0_0.4_0.4_0.5.npy\r\n",
      "BCQ_MiniGrid-DoorKey-8x8-v0_0_0.4_0.4_0.7.npy\r\n",
      "BCQ_MiniGrid-DoorKey-8x8-v0_0_0.4_0.6_0.3.npy\r\n",
      "BCQ_MiniGrid-DoorKey-8x8-v0_0_0.4_0.6_0.5.npy\r\n",
      "BCQ_MiniGrid-DoorKey-8x8-v0_0_0.4_0.6_0.7.npy\r\n",
      "BCQ_MiniGrid-DoorKey-8x8-v0_0_0.4_0.8_0.3.npy\r\n",
      "BCQ_MiniGrid-DoorKey-8x8-v0_0_0.4_0.8_0.5.npy\r\n",
      "BCQ_MiniGrid-DoorKey-8x8-v0_0_0.4_0.8_0.7.npy\r\n",
      "BCQ_MiniGrid-DoorKey-8x8-v0_0_0.6_0.0_0.3.npy\r\n",
      "BCQ_MiniGrid-DoorKey-8x8-v0_0_0.6_0.0_0.5.npy\r\n",
      "BCQ_MiniGrid-DoorKey-8x8-v0_0_0.6_0.0_0.7.npy\r\n",
      "BCQ_MiniGrid-DoorKey-8x8-v0_0_0.6_0.2_0.3.npy\r\n",
      "BCQ_MiniGrid-DoorKey-8x8-v0_0_0.6_0.2_0.5.npy\r\n",
      "BCQ_MiniGrid-DoorKey-8x8-v0_0_0.6_0.2_0.7.npy\r\n",
      "BCQ_MiniGrid-DoorKey-8x8-v0_0_0.6_0.4_0.3.npy\r\n",
      "BCQ_MiniGrid-DoorKey-8x8-v0_0_0.6_0.4_0.5.npy\r\n",
      "BCQ_MiniGrid-DoorKey-8x8-v0_0_0.6_0.4_0.7.npy\r\n",
      "BCQ_MiniGrid-DoorKey-8x8-v0_0_0.6_0.6_0.3.npy\r\n",
      "BCQ_MiniGrid-DoorKey-8x8-v0_0_0.6_0.6_0.5.npy\r\n",
      "BCQ_MiniGrid-DoorKey-8x8-v0_0_0.6_0.6_0.7.npy\r\n",
      "BCQ_MiniGrid-DoorKey-8x8-v0_0_0.6_0.8_0.3.npy\r\n",
      "BCQ_MiniGrid-DoorKey-8x8-v0_0_0.6_0.8_0.5.npy\r\n",
      "BCQ_MiniGrid-DoorKey-8x8-v0_0_0.6_0.8_0.7.npy\r\n",
      "BCQ_MiniGrid-DoorKey-8x8-v0_0_0.8_0.0_0.3.npy\r\n",
      "BCQ_MiniGrid-DoorKey-8x8-v0_0_0.8_0.0_0.5.npy\r\n",
      "BCQ_MiniGrid-DoorKey-8x8-v0_0_0.8_0.0_0.7.npy\r\n",
      "BCQ_MiniGrid-DoorKey-8x8-v0_0_0.8_0.2_0.3.npy\r\n",
      "BCQ_MiniGrid-DoorKey-8x8-v0_0_0.8_0.2_0.5.npy\r\n",
      "BCQ_MiniGrid-DoorKey-8x8-v0_0_0.8_0.2_0.7.npy\r\n",
      "BCQ_MiniGrid-DoorKey-8x8-v0_0_0.8_0.4_0.3.npy\r\n",
      "BCQ_MiniGrid-DoorKey-8x8-v0_0_0.8_0.4_0.5.npy\r\n",
      "BCQ_MiniGrid-DoorKey-8x8-v0_0_0.8_0.4_0.7.npy\r\n",
      "BCQ_MiniGrid-DoorKey-8x8-v0_0_0.8_0.6_0.3.npy\r\n",
      "BCQ_MiniGrid-DoorKey-8x8-v0_0_0.8_0.6_0.5.npy\r\n",
      "BCQ_MiniGrid-DoorKey-8x8-v0_0_0.8_0.6_0.7.npy\r\n",
      "BCQ_MiniGrid-DoorKey-8x8-v0_0_0.8_0.8_0.3.npy\r\n",
      "BCQ_MiniGrid-DoorKey-8x8-v0_0_0.8_0.8_0.5.npy\r\n",
      "BCQ_MiniGrid-DoorKey-8x8-v0_0_0.8_0.8_0.7.npy\r\n",
      "BCQ_MiniGrid-DoorKey-8x8-v0_0.npy\r\n",
      "behavioral_MiniGrid-DoorKey-8x8-v0_0.npy\r\n",
      "buffer_performance_MiniGrid-DoorKey-8x8-v0_0.npy\r\n"
     ]
    }
   ],
   "source": [
    "ls results/"
   ]
  },
  {
   "cell_type": "code",
   "execution_count": 34,
   "metadata": {},
   "outputs": [],
   "source": [
    "from pathlib import Path\n",
    "import numpy as np"
   ]
  },
  {
   "cell_type": "code",
   "execution_count": 35,
   "metadata": {},
   "outputs": [],
   "source": [
    "def statistics(path):\n",
    "    data = np.load(path)\n",
    "    mean_reward = np.mean(data)\n",
    "    last_reward = data[-1]\n",
    "    return mean_reward, last_reward"
   ]
  },
  {
   "cell_type": "code",
   "execution_count": 55,
   "metadata": {},
   "outputs": [],
   "source": [
    "def dict2heatmap(dicts, threshold):\n",
    "    d = dicts[threshold]\n",
    "    matrix_len = len(d.keys())\n",
    "    heatmap = np.zeros((matrix_len, matrix_len))\n",
    "    k1s = sorted(d.keys())\n",
    "    k2s = sorted(d[k1s[0]].keys())\n",
    "    for i in range(matrix_len):\n",
    "        for j in range(matrix_len):\n",
    "            heatmap[i][j] = d[k1s[i]][k2s[j]]\n",
    "    return heatmap"
   ]
  },
  {
   "cell_type": "code",
   "execution_count": 36,
   "metadata": {},
   "outputs": [],
   "source": [
    "root_folder = Path('./results')\n",
    "prefix = 'BCQ'\n",
    "env = 'MiniGrid-DoorKey-8x8-v0'\n",
    "seed = 0\n",
    "bcq_thresholds = [0.3, 0.5, 0.7]\n",
    "low_noise_ps = [0.0, 0.2, 0.4, 0.6, 0.8]\n",
    "rand_action_ps = [0.0, 0.2, 0.4, 0.6, 0.8]"
   ]
  },
  {
   "cell_type": "code",
   "execution_count": 37,
   "metadata": {},
   "outputs": [],
   "source": [
    "mean_rewards, last_rewards = dict(), dict()\n",
    "for bcq_threshold in bcq_thresholds:\n",
    "    if str(bcq_threshold) not in mean_rewards.keys():\n",
    "        mean_rewards[str(bcq_threshold)] = dict()\n",
    "        last_rewards[str(bcq_threshold)] = dict()\n",
    "    for low_noise_p in low_noise_ps:\n",
    "        if str(low_noise_p) not in mean_rewards[str(bcq_threshold)].keys():\n",
    "            mean_rewards[str(bcq_threshold)][str(low_noise_p)] = dict()\n",
    "            last_rewards[str(bcq_threshold)][str(low_noise_p)] = dict()\n",
    "        for rand_action_p in rand_action_ps:\n",
    "                mean_rewards[str(bcq_threshold)][str(low_noise_p)][str(rand_action_p)] = None\n",
    "                last_rewards[str(bcq_threshold)][str(low_noise_p)][str(rand_action_p)] = None"
   ]
  },
  {
   "cell_type": "code",
   "execution_count": 38,
   "metadata": {},
   "outputs": [],
   "source": [
    "for bcq_threshold in bcq_thresholds:\n",
    "    for low_noise_p in low_noise_ps:\n",
    "        for rand_action_p in rand_action_ps:\n",
    "            fpath = root_folder / f\"{prefix}_{env}_{seed}_{low_noise_p}_{rand_action_p}_{bcq_threshold}.npy\"\n",
    "            mean_reward, last_reward = statistics(fpath)\n",
    "            mean_rewards[str(bcq_threshold)][str(low_noise_p)][str(rand_action_p)] = mean_reward\n",
    "            last_rewards[str(bcq_threshold)][str(low_noise_p)][str(rand_action_p)] = last_reward"
   ]
  },
  {
   "cell_type": "code",
   "execution_count": 57,
   "metadata": {},
   "outputs": [],
   "source": [
    "import seaborn as sns; sns.set_theme()"
   ]
  },
  {
   "cell_type": "code",
   "execution_count": 65,
   "metadata": {},
   "outputs": [
    {
     "data": {
      "text/plain": [
       "<matplotlib.axes._subplots.AxesSubplot at 0x7fd7fd493090>"
      ]
     },
     "execution_count": 65,
     "metadata": {},
     "output_type": "execute_result"
    },
    {
     "data": {
      "image/png": "[encoded data removed]",
      "text/plain": [
       "<Figure size 432x288 with 2 Axes>"
      ]
     },
     "metadata": {},
     "output_type": "display_data"
    }
   ],
   "source": [
    "sns.heatmap(dict2heatmap(mean_rewards, str(0.3)))"
   ]
  },
  {
   "cell_type": "code",
   "execution_count": 63,
   "metadata": {},
   "outputs": [
    {
     "data": {
      "text/plain": [
       "<matplotlib.axes._subplots.AxesSubplot at 0x7fd841148a90>"
      ]
     },
     "execution_count": 63,
     "metadata": {},
     "output_type": "execute_result"
    },
    {
     "data": {
      "image/png": "[encoded data removed]",
      "text/plain": [
       "<Figure size 432x288 with 2 Axes>"
      ]
     },
     "metadata": {},
     "output_type": "display_data"
    }
   ],
   "source": [
    "sns.heatmap(dict2heatmap(mean_rewards, str(0.5)))"
   ]
  },
  {
   "cell_type": "code",
   "execution_count": 64,
   "metadata": {},
   "outputs": [
    {
     "data": {
      "text/plain": [
       "<matplotlib.axes._subplots.AxesSubplot at 0x7fd84105d910>"
      ]
     },
     "execution_count": 64,
     "metadata": {},
     "output_type": "execute_result"
    },
    {
     "data": {
      "image/png": "[encoded data removed]",
      "text/plain": [
       "<Figure size 432x288 with 2 Axes>"
      ]
     },
     "metadata": {},
     "output_type": "display_data"
    }
   ],
   "source": [
    "sns.heatmap(dict2heatmap(mean_rewards, str(0.7)))"
   ]
  },
  {
   "cell_type": "code",
   "execution_count": 67,
   "metadata": {},
   "outputs": [
    {
     "data": {
      "text/plain": [
       "<matplotlib.axes._subplots.AxesSubplot at 0x7fd840a9e050>"
      ]
     },
     "execution_count": 67,
     "metadata": {},
     "output_type": "execute_result"
    },
    {
     "data": {
      "image/png": "[encoded data removed]",
      "text/plain": [
       "<Figure size 432x288 with 2 Axes>"
      ]
     },
     "metadata": {},
     "output_type": "display_data"
    }
   ],
   "source": [
    "sns.heatmap(dict2heatmap(last_rewards, str(0.3)))"
   ]
  },
  {
   "cell_type": "code",
   "execution_count": 68,
   "metadata": {},
   "outputs": [
    {
     "data": {
      "text/plain": [
       "<matplotlib.axes._subplots.AxesSubplot at 0x7fd7fd420c50>"
      ]
     },
     "execution_count": 68,
     "metadata": {},
     "output_type": "execute_result"
    },
    {
     "data": {
      "image/png": "[encoded data removed]",
      "text/plain": [
       "<Figure size 432x288 with 2 Axes>"
      ]
     },
     "metadata": {},
     "output_type": "display_data"
    }
   ],
   "source": [
    "sns.heatmap(dict2heatmap(last_rewards, str(0.5)))"
   ]
  },
  {
   "cell_type": "code",
   "execution_count": 69,
   "metadata": {},
   "outputs": [
    {
     "data": {
      "text/plain": [
       "<matplotlib.axes._subplots.AxesSubplot at 0x7fd7e7626990>"
      ]
     },
     "execution_count": 69,
     "metadata": {},
     "output_type": "execute_result"
    },
    {
     "data": {
      "image/png": "[encoded data removed]",
      "text/plain": [
       "<Figure size 432x288 with 2 Axes>"
      ]
     },
     "metadata": {},
     "output_type": "display_data"
    }
   ],
   "source": [
    "sns.heatmap(dict2heatmap(last_rewards, str(0.7)))"
   ]
  }
 ],
 "metadata": {
  "kernelspec": {
   "display_name": "Python 3",
   "language": "python",
   "name": "python3"
  },
  "language_info": {
   "codemirror_mode": {
    "name": "ipython",
    "version": 3
   },
   "file_extension": ".py",
   "mimetype": "text/x-python",
   "name": "python",
   "nbconvert_exporter": "python",
   "pygments_lexer": "ipython3",
   "version": "3.7.5"
  }
 },
 "nbformat": 4,
 "nbformat_minor": 4
}
